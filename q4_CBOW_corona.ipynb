{
  "cells": [
    {
      "cell_type": "markdown",
      "source": [
        "# Assignment No 5\n",
        "\n",
        "Implement the Continuous Bag of Words (CBOW) Model. Stages can be:\n",
        "a. Data preparation\n",
        "b. Generate training data\n",
        "c. Train model\n",
        "d. Output"
      ],
      "metadata": {
        "id": "NqlbQRoZaTLh"
      },
      "id": "NqlbQRoZaTLh"
    },
    {
      "cell_type": "code",
      "source": [
        "#a. Data preparation"
      ],
      "metadata": {
        "id": "3EGVAWYzb-JD"
      },
      "id": "3EGVAWYzb-JD",
      "execution_count": null,
      "outputs": []
    },
    {
      "cell_type": "code",
      "execution_count": null,
      "id": "0490a2dc",
      "metadata": {
        "id": "0490a2dc"
      },
      "outputs": [],
      "source": [
        "import numpy as np\n",
        "import keras.backend as K #imp\n",
        "from keras.models import Sequential\n",
        "from keras.layers import Dense, Embedding, Lambda\n",
        "import tensorflow as tf\n",
        "from keras.utils import pad_sequences\n",
        "from keras.preprocessing.text import Tokenizer, text_to_word_sequence\n",
        "import gensim"
      ]
    },
    {
      "cell_type": "code",
      "execution_count": null,
      "id": "2fa22fe2",
      "metadata": {
        "colab": {
          "base_uri": "https://localhost:8080/"
        },
        "id": "2fa22fe2",
        "outputId": "e5ec5c67-6698-4716-b1fe-afc993e5ccfb"
      },
      "outputs": [
        {
          "output_type": "execute_result",
          "data": {
            "text/plain": [
              "<_io.TextIOWrapper name='/content/corona.txt' mode='r' encoding='UTF-8'>"
            ]
          },
          "metadata": {},
          "execution_count": 3
        }
      ],
      "source": [
        "data = open(r\"/content/corona.txt\")\n",
        "data"
      ]
    },
    {
      "cell_type": "code",
      "execution_count": null,
      "id": "4d8fac32",
      "metadata": {
        "colab": {
          "base_uri": "https://localhost:8080/"
        },
        "id": "4d8fac32",
        "outputId": "690c9061-943c-41c2-a566-cb665de8480f"
      },
      "outputs": [
        {
          "output_type": "execute_result",
          "data": {
            "text/plain": [
              "['The speed of transmission is an important point of difference between the two viruses. Influenza has a shorter median incubation period (the time from infection to appearance of symptoms) and a shorter serial interval (the time between successive cases) than COVID-19 virus. The serial interval for COVID-19 virus is estimated to be 5-6 days, while for influenza virus, the serial interval is 3 days. This means that influenza can spread faster than COVID-19. \\n',\n",
              " 'Further, transmission in the first 3-5 days of illness, or potentially pre-symptomatic transmission –transmission of the virus before the appearance of symptoms – is a major driver of transmission for influenza. In contrast, while we are learning that there are people who can shed COVID-19 virus 24-48 hours prior to symptom onset, at present, this does not appear to be a major driver of transmission. \\n',\n",
              " 'The reproductive number – the number of secondary infections generated from one infected individual – is understood to be between 2 and 2.5 for COVID-19 virus, higher than for influenza. However, estimates for both COVID-19 and influenza viruses are very context and time-specific, making direct comparisons more difficult.  ']"
            ]
          },
          "metadata": {},
          "execution_count": 4
        }
      ],
      "source": [
        "corona_data = [text for text in data if text.count(' ') >= 2]\n",
        "corona_data"
      ]
    },
    {
      "cell_type": "code",
      "execution_count": null,
      "id": "87689998",
      "metadata": {
        "colab": {
          "base_uri": "https://localhost:8080/"
        },
        "id": "87689998",
        "outputId": "9295bae3-c54c-46b0-f76e-e7c7a24bac63"
      },
      "outputs": [
        {
          "output_type": "execute_result",
          "data": {
            "text/plain": [
              "[[1,\n",
              "  38,\n",
              "  2,\n",
              "  8,\n",
              "  9,\n",
              "  39,\n",
              "  40,\n",
              "  41,\n",
              "  2,\n",
              "  42,\n",
              "  13,\n",
              "  1,\n",
              "  43,\n",
              "  23,\n",
              "  3,\n",
              "  44,\n",
              "  11,\n",
              "  24,\n",
              "  45,\n",
              "  46,\n",
              "  47,\n",
              "  1,\n",
              "  14,\n",
              "  25,\n",
              "  48,\n",
              "  10,\n",
              "  26,\n",
              "  2,\n",
              "  27,\n",
              "  12,\n",
              "  11,\n",
              "  24,\n",
              "  15,\n",
              "  16,\n",
              "  1,\n",
              "  14,\n",
              "  13,\n",
              "  49,\n",
              "  50,\n",
              "  17,\n",
              "  4,\n",
              "  5,\n",
              "  6,\n",
              "  1,\n",
              "  15,\n",
              "  16,\n",
              "  7,\n",
              "  4,\n",
              "  5,\n",
              "  6,\n",
              "  9,\n",
              "  51,\n",
              "  10,\n",
              "  18,\n",
              "  19,\n",
              "  52,\n",
              "  20,\n",
              "  28,\n",
              "  7,\n",
              "  3,\n",
              "  6,\n",
              "  1,\n",
              "  15,\n",
              "  16,\n",
              "  9,\n",
              "  29,\n",
              "  20,\n",
              "  30,\n",
              "  53,\n",
              "  31,\n",
              "  3,\n",
              "  32,\n",
              "  54,\n",
              "  55,\n",
              "  17,\n",
              "  4,\n",
              "  5],\n",
              " [56,\n",
              "  8,\n",
              "  33,\n",
              "  1,\n",
              "  57,\n",
              "  29,\n",
              "  19,\n",
              "  20,\n",
              "  2,\n",
              "  58,\n",
              "  59,\n",
              "  60,\n",
              "  61,\n",
              "  62,\n",
              "  8,\n",
              "  63,\n",
              "  2,\n",
              "  1,\n",
              "  6,\n",
              "  64,\n",
              "  1,\n",
              "  26,\n",
              "  2,\n",
              "  27,\n",
              "  21,\n",
              "  9,\n",
              "  11,\n",
              "  34,\n",
              "  35,\n",
              "  2,\n",
              "  8,\n",
              "  7,\n",
              "  3,\n",
              "  33,\n",
              "  65,\n",
              "  28,\n",
              "  66,\n",
              "  22,\n",
              "  67,\n",
              "  31,\n",
              "  68,\n",
              "  22,\n",
              "  69,\n",
              "  70,\n",
              "  32,\n",
              "  71,\n",
              "  4,\n",
              "  5,\n",
              "  6,\n",
              "  72,\n",
              "  73,\n",
              "  74,\n",
              "  75,\n",
              "  10,\n",
              "  76,\n",
              "  77,\n",
              "  78,\n",
              "  79,\n",
              "  30,\n",
              "  80,\n",
              "  81,\n",
              "  82,\n",
              "  10,\n",
              "  18,\n",
              "  11,\n",
              "  34,\n",
              "  35,\n",
              "  2,\n",
              "  8],\n",
              " [1,\n",
              "  83,\n",
              "  36,\n",
              "  21,\n",
              "  1,\n",
              "  36,\n",
              "  2,\n",
              "  84,\n",
              "  85,\n",
              "  86,\n",
              "  25,\n",
              "  87,\n",
              "  88,\n",
              "  89,\n",
              "  21,\n",
              "  9,\n",
              "  90,\n",
              "  10,\n",
              "  18,\n",
              "  13,\n",
              "  37,\n",
              "  12,\n",
              "  37,\n",
              "  19,\n",
              "  7,\n",
              "  4,\n",
              "  5,\n",
              "  6,\n",
              "  91,\n",
              "  17,\n",
              "  7,\n",
              "  3,\n",
              "  92,\n",
              "  93,\n",
              "  7,\n",
              "  94,\n",
              "  4,\n",
              "  5,\n",
              "  12,\n",
              "  3,\n",
              "  23,\n",
              "  22,\n",
              "  95,\n",
              "  96,\n",
              "  12,\n",
              "  14,\n",
              "  97,\n",
              "  98,\n",
              "  99,\n",
              "  100,\n",
              "  101,\n",
              "  102]]"
            ]
          },
          "metadata": {},
          "execution_count": 5
        }
      ],
      "source": [
        "vectorize = Tokenizer()\n",
        "vectorize.fit_on_texts(corona_data)\n",
        "corona_data = vectorize.texts_to_sequences(corona_data)\n",
        "\n",
        "total_vocab = sum(len(s) for s in corona_data)\n",
        "word_count = len(vectorize.index_word)+1\n",
        "corona_data"
      ]
    },
    {
      "cell_type": "code",
      "execution_count": null,
      "id": "301b9b75",
      "metadata": {
        "colab": {
          "base_uri": "https://localhost:8080/"
        },
        "id": "301b9b75",
        "outputId": "799e17d5-4f53-44e3-fcc8-1915deb4b34f"
      },
      "outputs": [
        {
          "output_type": "stream",
          "name": "stdout",
          "text": [
            "198\n",
            "103\n"
          ]
        }
      ],
      "source": [
        "print(total_vocab)\n",
        "print(word_count)"
      ]
    },
    {
      "cell_type": "code",
      "execution_count": null,
      "id": "15b54822",
      "metadata": {
        "id": "15b54822"
      },
      "outputs": [],
      "source": [
        "window_size = 2"
      ]
    },
    {
      "cell_type": "code",
      "source": [
        "# b. Generate training data"
      ],
      "metadata": {
        "id": "1S4TNbt3csXQ"
      },
      "id": "1S4TNbt3csXQ",
      "execution_count": null,
      "outputs": []
    },
    {
      "cell_type": "code",
      "execution_count": null,
      "id": "d2095b39",
      "metadata": {
        "id": "d2095b39"
      },
      "outputs": [],
      "source": [
        "# Defining utility to generate context word pairs\n",
        "def cbow_model(data, window_size, total_vocab):\n",
        "    total_length = window_size*2\n",
        "    for text in data:\n",
        "        text_len = len(text)\n",
        "#         print(\"zero\",text)\n",
        "        for idx, word in enumerate(text):\n",
        "#             print(\"first\",idx,word)\n",
        "            context_word = []\n",
        "            target   = []\n",
        "            begin = idx - window_size\n",
        "            end = idx + window_size + 1\n",
        "            context_word.append([\n",
        "                text[i]\n",
        "                for i in range(begin, end)\n",
        "                if 0 <= i < text_len\n",
        "                and i != idx\n",
        "            ])\n",
        "            target.append(word)\n",
        "#             print(\"second\",context_word,target)\n",
        "            contextual = pad_sequences(\n",
        "                context_word,\n",
        "                maxlen=total_length\n",
        "            )\n",
        "            final_target = tf.keras.utils.to_categorical(\n",
        "                target,\n",
        "                total_vocab\n",
        "            )\n",
        "#             print(\"third\",contextual,final_target)\n",
        "            yield(contextual, final_target)"
      ]
    },
    {
      "cell_type": "code",
      "source": [
        "# c. train model"
      ],
      "metadata": {
        "id": "rXwgDgOJc1bu"
      },
      "id": "rXwgDgOJc1bu",
      "execution_count": null,
      "outputs": []
    },
    {
      "cell_type": "code",
      "execution_count": null,
      "id": "c4b54b16",
      "metadata": {
        "id": "c4b54b16"
      },
      "outputs": [],
      "source": [
        "# Defining the model architecture\n",
        "model = Sequential()\n",
        "model.add(\n",
        "    Embedding(\n",
        "        input_dim=total_vocab,\n",
        "        output_dim=100,\n",
        "        input_length=window_size*2\n",
        "    )\n",
        ")\n",
        "model.add(\n",
        "    Lambda(\n",
        "        lambda x: K.mean(x, axis=1),\n",
        "        output_shape=(100,)\n",
        "    )\n",
        ")\n",
        "model.add(\n",
        "    Dense(\n",
        "        total_vocab,\n",
        "        activation='softmax'\n",
        "    )\n",
        ")"
      ]
    },
    {
      "cell_type": "code",
      "execution_count": null,
      "id": "b4dc047d",
      "metadata": {
        "colab": {
          "base_uri": "https://localhost:8080/"
        },
        "id": "b4dc047d",
        "outputId": "db40b706-5e58-42d5-82e9-0ec2bad05916"
      },
      "outputs": [
        {
          "output_type": "stream",
          "name": "stdout",
          "text": [
            "Model: \"sequential\"\n",
            "_________________________________________________________________\n",
            " Layer (type)                Output Shape              Param #   \n",
            "=================================================================\n",
            " embedding (Embedding)       (None, 4, 100)            19800     \n",
            "                                                                 \n",
            " lambda (Lambda)             (None, 100)               0         \n",
            "                                                                 \n",
            " dense (Dense)               (None, 198)               19998     \n",
            "                                                                 \n",
            "=================================================================\n",
            "Total params: 39798 (155.46 KB)\n",
            "Trainable params: 39798 (155.46 KB)\n",
            "Non-trainable params: 0 (0.00 Byte)\n",
            "_________________________________________________________________\n"
          ]
        }
      ],
      "source": [
        "model.summary()\n"
      ]
    },
    {
      "cell_type": "code",
      "execution_count": null,
      "id": "0b9e3e4a",
      "metadata": {
        "id": "0b9e3e4a"
      },
      "outputs": [],
      "source": [
        "model.compile(\n",
        "    loss='categorical_crossentropy',\n",
        "    optimizer='adam'\n",
        ")"
      ]
    },
    {
      "cell_type": "code",
      "execution_count": null,
      "id": "1be36f11",
      "metadata": {
        "colab": {
          "base_uri": "https://localhost:8080/"
        },
        "id": "1be36f11",
        "outputId": "1a6e20ce-6d1c-4536-eacf-5c98960ef237"
      },
      "outputs": [
        {
          "output_type": "stream",
          "name": "stdout",
          "text": [
            "Epoch  0 \t:  1041.8278551101685\n",
            "Epoch  1 \t:  993.0189785957336\n",
            "Epoch  2 \t:  905.5759208202362\n",
            "Epoch  3 \t:  828.1839485168457\n",
            "Epoch  4 \t:  774.7983016967773\n",
            "Epoch  5 \t:  724.5076154470444\n",
            "Epoch  6 \t:  671.9924651384354\n",
            "Epoch  7 \t:  617.8237195014954\n",
            "Epoch  8 \t:  563.515346288681\n",
            "Epoch  9 \t:  510.6042321920395\n"
          ]
        }
      ],
      "source": [
        "for i in range(10):\n",
        "    cost = 0\n",
        "    for x, y in cbow_model(corona_data, window_size, total_vocab):\n",
        "        cost += model.train_on_batch(x, y)\n",
        "    print(\"Epoch \", i,\"\\t: \", cost)"
      ]
    },
    {
      "cell_type": "code",
      "execution_count": null,
      "id": "67f5ff0c",
      "metadata": {
        "colab": {
          "base_uri": "https://localhost:8080/"
        },
        "id": "67f5ff0c",
        "outputId": "291c556f-fd42-41cb-88a6-bdc82c315ba4"
      },
      "outputs": [
        {
          "output_type": "execute_result",
          "data": {
            "text/plain": [
              "8"
            ]
          },
          "metadata": {},
          "execution_count": 16
        }
      ],
      "source": [
        "dimensions = 100\n",
        "vect_file = open('./vectors.txt','w')\n",
        "vect_file.write('{} {}\\n'.format(102, dimensions))\n"
      ]
    },
    {
      "cell_type": "code",
      "execution_count": null,
      "id": "5fe0d369",
      "metadata": {
        "id": "5fe0d369"
      },
      "outputs": [],
      "source": [
        "weights = model.get_weights()[0]\n",
        "for text, i in vectorize.word_index.items():\n",
        "    final_vec = ' '.join(map(str, list(weights[i, :])))\n",
        "    vect_file.write('{} {}\\n'.format(text, final_vec))\n",
        "vect_file.close()"
      ]
    },
    {
      "cell_type": "code",
      "source": [
        "# d. Output"
      ],
      "metadata": {
        "id": "mkvf1Hk2c7JD"
      },
      "id": "mkvf1Hk2c7JD",
      "execution_count": null,
      "outputs": []
    },
    {
      "cell_type": "code",
      "execution_count": null,
      "id": "abdac1c1",
      "metadata": {
        "id": "abdac1c1"
      },
      "outputs": [],
      "source": [
        "cbow_output = gensim.models.KeyedVectors.load_word2vec_format(\n",
        "    'vectors.txt',\n",
        "    binary=False\n",
        ")"
      ]
    },
    {
      "cell_type": "code",
      "execution_count": null,
      "id": "0f824b2c",
      "metadata": {
        "colab": {
          "base_uri": "https://localhost:8080/"
        },
        "id": "0f824b2c",
        "outputId": "9fe9d4b0-5f00-48c5-9083-a8eae6ac98ac"
      },
      "outputs": [
        {
          "output_type": "execute_result",
          "data": {
            "text/plain": [
              "[('–transmission', 0.8709251284599304),\n",
              " ('number', 0.7510669827461243),\n",
              " ('difference', 0.7482622265815735),\n",
              " ('driver', 0.7140737175941467),\n",
              " ('interval', 0.7052752375602722),\n",
              " ('before', 0.6867612600326538),\n",
              " ('serial', 0.6823122501373291),\n",
              " ('symptoms', 0.6481000781059265),\n",
              " ('two', 0.6480923891067505),\n",
              " ('transmission', 0.6156459450721741)]"
            ]
          },
          "metadata": {},
          "execution_count": 19
        }
      ],
      "source": [
        "cbow_output.most_similar(positive=['speed'])\n"
      ]
    },
    {
      "cell_type": "code",
      "source": [
        "# import numpy as np: Imports the NumPy library.\n",
        "\n",
        "# import keras.backend as K: Imports the Keras backend for custom loss function (though it doesn't appear to be used in the code).\n",
        "\n",
        "# from keras.models import Sequential: Imports the Sequential model from Keras.\n",
        "\n",
        "# from keras.layers import Dense, Embedding, Lambda: Imports layers from Keras.\n",
        "\n",
        "# import tensorflow as tf: Imports TensorFlow.\n",
        "\n",
        "# from keras.utils import pad_sequences: Imports pad_sequences from Keras.\n",
        "\n",
        "# from keras.preprocessing.text import Tokenizer, text_to_word_sequence: Imports Tokenizer and text_to_word_sequence functions from Keras.\n",
        "\n",
        "# import gensim: Imports the Gensim library for word vector operations.\n",
        "\n",
        "# data = open(r\"/content/corona.txt\"): Opens a text file named \"corona.txt\" for reading. This file contains text data.\n",
        "\n",
        "# corona_data = [text for text in data if text.count(' ') >= 2]: Reads the lines from the file and stores them in the corona_data list if they contain at least two spaces.\n",
        "# This is likely filtering for lines with a minimum number of words.\n",
        "\n",
        "# vectorize = Tokenizer(): Initializes a Tokenizer from Keras. This will be used for text tokenization.\n",
        "\n",
        "# vectorize.fit_on_texts(corona_data): Fits the Tokenizer on the corona_data to create a vocabulary.\n",
        "\n",
        "# corona_data = vectorize.texts_to_sequences(corona_data): Converts the text data to sequences using the vocabulary created by the Tokenizer.\n",
        "\n",
        "# total_vocab = sum(len(s) for s in corona_data): Calculates the total number of words in the data.\n",
        "\n",
        "# word_count = len(vectorize.index_word) + 1: Retrieves the count of unique words in the vocabulary created by the Tokenizer.\n",
        "\n",
        "# Stage b: Generate training data\n",
        "# window_size = 2: Sets the window size for context words.\n",
        "\n",
        "# The cbow_model function is defined to generate training data. It iterates over the corona_data and generates context word pairs.\n",
        "\n",
        "# Stage c: Train model\n",
        "# The model architecture is defined using Keras Sequential model. It consists of an Embedding layer, a Lambda layer to calculate the mean, and a Dense layer for prediction.\n",
        "\n",
        "# The model is compiled with categorical cross-entropy loss and the Adam optimizer.\n",
        "\n",
        "# The code trains the model for 10 epochs. It iterates over the training data and performs batch training.\n",
        "\n",
        "# Stage d: Output\n",
        "# A file 'vectors.txt' is opened for writing. This file will store the word vectors.\n",
        "\n",
        "# The word vectors are extracted from the trained model and written to 'vectors.txt'.\n",
        "\n",
        "# The 'vectors.txt' file is saved with the word vectors.\n",
        "\n",
        "# Finally, the code loads the saved word vectors using Gensim and uses the most_similar function to find words similar to 'speed' in the word vector space.\n",
        "\n",
        "# The output of the code will include words that are similar to 'speed' based on the trained CBOW word vectors.\n",
        "# This represents the semantic similarity between words in the context of the trained model.\n",
        "\n",
        "# stage b\n",
        "# cbow_model is a generator function that yields context word pairs for training the CBOW model.\n",
        "# It takes three arguments: data (the tokenized text data), window_size (the context window size), and total_vocab (the total vocabulary size).\n",
        "# It iterates over each text in the data.\n",
        "# For each word in the text, it generates context words and a target word.\n",
        "# The context words are determined by the window_size, and the target word is the current word being considered.\n",
        "# contextual is created using pad_sequences to ensure all context sequences have the same length.\n",
        "# final_target is one-hot encoded using tf.keras.utils.to_categorical.\n",
        "# The function yields the contextual data and the corresponding target.\n",
        "\n",
        "# stage c\n",
        "# In this part, the model architecture is defined and trained.\n",
        "# An embedding layer maps input words to a 100-dimensional vector space.\n",
        "# A Lambda layer computes the mean of word vectors in the context.\n",
        "# A dense layer with softmax activation predicts the target word.\n",
        "# The model is compiled with categorical cross-entropy loss and the Adam optimizer.\n",
        "# The model is trained for 10 epochs. For each epoch, it iterates over the training data generated by cbow_model and updates the model weights.\n",
        "# The cost for each epoch is printed.\n",
        "\n",
        "# stage d\n",
        "# This part prepares and saves the word vectors obtained from the trained model.\n",
        "# It writes the vectors to a file named 'vectors.txt'.\n",
        "# The dimensions for the vectors are specified as 100.\n",
        "# The word vectors are extracted from the model's weights and written to the file.\n",
        "# Loading and Using the CBOW Model\n",
        "# The code loads the saved word vectors from 'vectors.txt' using Gensim.\n",
        "# It then uses the most_similar function to find words similar to 'speed' in the word vector space."
      ],
      "metadata": {
        "id": "xkYxnl8VHz56"
      },
      "id": "xkYxnl8VHz56",
      "execution_count": null,
      "outputs": []
    },
    {
      "cell_type": "code",
      "source": [
        "# Output explain -->\n",
        "\n",
        "# Here's a detailed explanation of the outputs you provided:\n",
        "\n",
        "# The variable data is assigned an open file object for a file named 'corona.txt'.\n",
        "\n",
        "# The variable corona_data is created by filtering the lines in the 'corona.txt' file to include only those lines that have at least two spaces.\n",
        "# This results in a list of sentences or paragraphs.\n",
        "\n",
        "# The variable vectorize is initialized as a Tokenizer object, which is used to convert text data into sequences of integers.\n",
        "# It is then fit on the corona_data, and the text data in corona_data is transformed into sequences of integers.\n",
        "# The total number of words in the corona_data is calculated in the total_vocab variable.\n",
        "\n",
        "# The window_size is set to 2. This variable will be used for generating context word pairs in the CBOW model.\n",
        "\n",
        "# The cbow_model function is defined to generate context word pairs.\n",
        "# It iterates through the sentences or paragraphs in data and for each word in the text, it forms a context window of words around it based on the window_size.\n",
        "# It then yields the context window as the input and the target word as the output.\n",
        "\n",
        "# The model architecture is defined using Keras:\n",
        "\n",
        "# An Embedding layer is added, where the input dimension is set to total_vocab (the total number of unique words) and the output dimension is set to 100.\n",
        "# The input_length is set to window_size*2.\n",
        "# A Lambda layer calculates the mean of the embeddings along the axis of words, resulting in a context vector of size 100.\n",
        "# A Dense layer with total_vocab units and softmax activation is added for prediction.\n",
        "# The model summary is printed, showing the layers and their output shapes, as well as the total number of parameters.\n",
        "\n",
        "# The model is compiled with a categorical cross-entropy loss function and the Adam optimizer.\n",
        "\n",
        "# The model is trained for 10 epochs. In each epoch, the cbow_model function is used to generate training data, and the train_on_batch method is used to train the model. The training cost for each epoch is printed.\n",
        "\n",
        "# A file named 'vectors.txt' is opened for writing, and the dimensions of the vectors (102 words, each with 100 dimensions) are written to the file.\n",
        "\n",
        "# The word embeddings (word vectors) are extracted from the model's weights and written to 'vectors.txt'.\n",
        "\n",
        "# The gensim library is used to load the word vectors from 'vectors.txt', and the most similar words to 'speed' are calculated using the most_similar method."
      ],
      "metadata": {
        "id": "Z6u7X0g8Upn5"
      },
      "id": "Z6u7X0g8Upn5",
      "execution_count": null,
      "outputs": []
    },
    {
      "cell_type": "code",
      "source": [
        "# Output -->\n",
        "# total_vocab: This is the total number of unique words in the corona_data, and it is calculated to be 198.\n",
        "# It represents the size of the vocabulary that the CBOW model will work with.\n",
        "\n",
        "# word_count: The number of unique words plus one (103).\n",
        "# It represents the total number of unique words plus one, which corresponds to the number of unique words in the vocabulary plus one for an out-of-vocabulary (OOV) token.\n",
        "\n",
        "# Epoch-wise training costs: During training, the model is trained for 10 epochs, and the training cost for each epoch is printed.\n",
        "# The cost decreases with each epoch as the model learns to predict context words from target words.\n",
        "# The training cost measures how well the model is fitting the training data.\n",
        "\n",
        "# Epoch 0: 1041.83\n",
        "# Epoch 1: 993.02\n",
        "# Epoch 2: 905.58\n",
        "# Epoch 3: 828.18\n",
        "# Epoch 4: 774.80\n",
        "# Epoch 5: 724.51\n",
        "# Epoch 6: 671.99\n",
        "# Epoch 7: 617.82\n",
        "# Epoch 8: 563.52\n",
        "# Epoch 9: 510.60\n",
        "# The training cost is a measure of the error during training, and the decreasing values indicate that the model is learning to predict context words more accurately.\n",
        "\n",
        "# Dimensions of word vectors: The dimensions of the word vectors (word embeddings) are written to 'vectors.txt'.\n",
        "# The file header specifies 102 words (the vocabulary size) and 100 dimensions for each word vector.\n",
        "\n",
        "# cbow_output.most_similar(positive=['speed']): This line calculates the words that are most similar to the word 'speed' based on the word embeddings learned by the model.\n",
        "# The output is a list of word similarity pairs with their similarity scores.\n",
        "\n",
        "# ('–transmission', 0.8709): The word '-transmission' is most similar to 'speed' with a similarity score of approximately 0.8709.\n",
        "# ('number', 0.7511): The word 'number' is similar to 'speed' with a similarity score of approximately 0.7511.\n",
        "# ('difference', 0.7483): 'Difference' is another word similar to 'speed' with a similarity score of approximately 0.7483.\n",
        "# ('driver', 0.7141): The word 'driver' is similar to 'speed' with a similarity score of approximately 0.7141.\n",
        "# ('interval', 0.7053): The word 'interval' has a similarity score of approximately 0.7053.\n",
        "# ('before', 0.6868): 'Before' is similar to 'speed' with a similarity score of approximately 0.6868.\n",
        "# ('serial', 0.6823): The word 'serial' is also similar with a similarity score of approximately 0.6823.\n",
        "# ('symptoms', 0.6481): 'Symptoms' has a similarity score of approximately 0.6481.\n",
        "# ('two', 0.6481): The word 'two' is similar with a similarity score of approximately 0.6481.\n",
        "# ('transmission', 0.6156): 'Transmission' is similar to 'speed' with a similarity score of approximately 0.6156.\n",
        "# These similarity scores indicate how closely related each word is to 'speed' in the vector space learned by the model.\n",
        "# Higher similarity scores indicate closer semantic relationships between words."
      ],
      "metadata": {
        "id": "6xlfwxFlVAG5"
      },
      "id": "6xlfwxFlVAG5",
      "execution_count": null,
      "outputs": []
    },
    {
      "cell_type": "code",
      "source": [
        "# Questions\n",
        "\n",
        "# What is the Continuous Bag of Words (CBOW) model?\n",
        "# CBOW is a type of word embedding model used to represent words as continuous vectors in a dense vector space.\n",
        "# It aims to predict a target word based on its context words.\n",
        "\n",
        "# How is the training data prepared for the CBOW model in this code?\n",
        "# The training data is prepared by tokenizing the text, and each word is encoded as an integer.\n",
        "# The context-target word pairs are generated from the text data.\n",
        "# What is the role of the total_vocab variable?\n",
        "# total_vocab represents the size of the vocabulary used by the CBOW model, which is 198 in this code.\n",
        "# It's the total number of unique words.\n",
        "\n",
        "# What does the model architecture of the CBOW model look like?\n",
        "# The model architecture consists of an embedding layer, a Lambda layer for averaging context word embeddings, and a softmax-activated dense layer to predict the target word.\n",
        "# The details are provided in the model summary.\n",
        "\n",
        "# How does the model learn word embeddings in this code?\n",
        "# The model learns word embeddings by minimizing the categorical cross-entropy loss during training.\n",
        "# It updates the word embeddings to predict context words from target words.\n",
        "\n",
        "# What is the significance of the word vectors written to 'vectors.txt'?\n",
        "# The word vectors represent semantically meaningful embeddings for each word.\n",
        "# They can be used for various natural language processing tasks, such as word similarity and text generation.\n",
        "\n",
        "# What does the output of cbow_output.most_similar(positive=['speed']) mean?\n",
        "# It lists words that are most similar to 'speed' based on the learned word embeddings.\n",
        "# The output includes similar words and their similarity scores.\n",
        "\n",
        "# How many dimensions are used for the word vectors in this code?\n",
        "# The word vectors have 100 dimensions, as specified in the code.\n",
        "\n",
        "# What are some potential applications of word embeddings created by this CBOW model?\n",
        "# Word embeddings can be used for tasks like sentiment analysis, machine translation, document classification, and information retrieval.\n",
        "\n",
        "# What can you do to improve the performance of the CBOW model?\n",
        "# You can adjust hyperparameters, increase the amount of training data, or fine-tune the model architecture to improve performance."
      ],
      "metadata": {
        "id": "VzZuCoH3VmlD"
      },
      "id": "VzZuCoH3VmlD",
      "execution_count": null,
      "outputs": []
    }
  ],
  "metadata": {
    "kernelspec": {
      "display_name": "Python 3 (ipykernel)",
      "language": "python",
      "name": "python3"
    },
    "language_info": {
      "codemirror_mode": {
        "name": "ipython",
        "version": 3
      },
      "file_extension": ".py",
      "mimetype": "text/x-python",
      "name": "python",
      "nbconvert_exporter": "python",
      "pygments_lexer": "ipython3",
      "version": "3.8.13"
    },
    "colab": {
      "provenance": []
    }
  },
  "nbformat": 4,
  "nbformat_minor": 5
}